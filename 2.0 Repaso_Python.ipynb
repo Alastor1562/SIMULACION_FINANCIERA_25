{
 "cells": [
  {
   "cell_type": "markdown",
   "id": "50a1a127",
   "metadata": {
    "id": "50a1a127"
   },
   "source": [
    "# **Repaso express - Python: Numpy y Pandas**"
   ]
  },
  {
   "cell_type": "markdown",
   "id": "f3366cfc",
   "metadata": {
    "id": "f3366cfc"
   },
   "source": [
    "# **Numpy**"
   ]
  },
  {
   "cell_type": "markdown",
   "id": "c9f473f9",
   "metadata": {
    "id": "c9f473f9"
   },
   "source": [
    "## **Operaciones con arreglos (arrays)**"
   ]
  },
  {
   "cell_type": "code",
   "execution_count": 4,
   "id": "2d505223",
   "metadata": {
    "colab": {
     "base_uri": "https://localhost:8080/"
    },
    "id": "2d505223",
    "outputId": "86f9e1b1-ee9a-4b35-bc4e-f7146f9c1db6"
   },
   "outputs": [
    {
     "name": "stdout",
     "output_type": "stream",
     "text": [
      "[[3 2 4]\n",
      " [5 6 8]]\n"
     ]
    }
   ],
   "source": [
    "import numpy as np\n",
    "data = np.array( [ [3, 2, 4], [5, 6, 8] ] )\n",
    "data2 = np.array( [ [5.4, 2.09, 4], [5.4, 6.51, 8.0001] ] )\n",
    "print(data)\n"
   ]
  },
  {
   "cell_type": "code",
   "execution_count": 5,
   "id": "GrUjIkvcywbW",
   "metadata": {
    "colab": {
     "base_uri": "https://localhost:8080/"
    },
    "id": "GrUjIkvcywbW",
    "outputId": "e1315894-2212-40b8-d005-7c540af7de76"
   },
   "outputs": [
    {
     "name": "stdout",
     "output_type": "stream",
     "text": [
      "[[5.4    2.09   4.    ]\n",
      " [5.4    6.51   8.0001]]\n"
     ]
    }
   ],
   "source": [
    "print(data2)"
   ]
  },
  {
   "cell_type": "code",
   "execution_count": 6,
   "id": "y_MO9SvtyI7A",
   "metadata": {
    "colab": {
     "base_uri": "https://localhost:8080/"
    },
    "id": "y_MO9SvtyI7A",
    "outputId": "69fb3590-7d29-4320-b077-bb82919925a7"
   },
   "outputs": [
    {
     "name": "stdout",
     "output_type": "stream",
     "text": [
      "[[ 6  4  8]\n",
      " [10 12 16]]\n",
      "[[ 8  7  9]\n",
      " [10 11 13]]\n",
      "[[ 8.4     4.09    8.    ]\n",
      " [10.4    12.51   16.0001]]\n"
     ]
    }
   ],
   "source": [
    "print(data * 2 )\n",
    "print(data + 5 )\n",
    "print(data + data2 )"
   ]
  },
  {
   "cell_type": "code",
   "execution_count": 7,
   "id": "7b97803a",
   "metadata": {
    "colab": {
     "base_uri": "https://localhost:8080/"
    },
    "id": "7b97803a",
    "outputId": "26198b6b-78d5-44cc-a111-2599a02ebb6a"
   },
   "outputs": [
    {
     "data": {
      "text/plain": [
       "(2, 3)"
      ]
     },
     "execution_count": 7,
     "metadata": {},
     "output_type": "execute_result"
    }
   ],
   "source": [
    "data.shape  # Forma del arreglo"
   ]
  },
  {
   "cell_type": "code",
   "execution_count": 8,
   "id": "3578f43d",
   "metadata": {
    "colab": {
     "base_uri": "https://localhost:8080/"
    },
    "id": "3578f43d",
    "outputId": "5109746a-5ae3-4663-d5d3-f80e7499f13d"
   },
   "outputs": [
    {
     "data": {
      "text/plain": [
       "1"
      ]
     },
     "execution_count": 8,
     "metadata": {},
     "output_type": "execute_result"
    }
   ],
   "source": [
    "unidimensional = np.array([2, 2, 3])\n",
    "unidimensional.ndim  #numero de dimensiones (arreglo bidimensional)"
   ]
  },
  {
   "cell_type": "code",
   "execution_count": 9,
   "id": "89a87388",
   "metadata": {
    "colab": {
     "base_uri": "https://localhost:8080/"
    },
    "id": "89a87388",
    "outputId": "df813088-efec-414c-fdbc-a74ebea36349"
   },
   "outputs": [
    {
     "data": {
      "text/plain": [
       "array([[0., 0., 0., 0.],\n",
       "       [0., 0., 0., 0.],\n",
       "       [0., 0., 0., 0.],\n",
       "       [0., 0., 0., 0.],\n",
       "       [0., 0., 0., 0.],\n",
       "       [0., 0., 0., 0.],\n",
       "       [0., 0., 0., 0.],\n",
       "       [0., 0., 0., 0.],\n",
       "       [0., 0., 0., 0.],\n",
       "       [0., 0., 0., 0.]])"
      ]
     },
     "execution_count": 9,
     "metadata": {},
     "output_type": "execute_result"
    }
   ],
   "source": [
    "np.zeros((10,4))"
   ]
  },
  {
   "cell_type": "code",
   "execution_count": 10,
   "id": "a5cdbee5",
   "metadata": {
    "colab": {
     "base_uri": "https://localhost:8080/"
    },
    "id": "a5cdbee5",
    "outputId": "f848871a-5647-4f8d-92d6-546ac93dab00"
   },
   "outputs": [
    {
     "data": {
      "text/plain": [
       "array([[1., 1., 1., 1., 1., 1., 1., 1., 1., 1.],\n",
       "       [1., 1., 1., 1., 1., 1., 1., 1., 1., 1.],\n",
       "       [1., 1., 1., 1., 1., 1., 1., 1., 1., 1.],\n",
       "       [1., 1., 1., 1., 1., 1., 1., 1., 1., 1.],\n",
       "       [1., 1., 1., 1., 1., 1., 1., 1., 1., 1.],\n",
       "       [1., 1., 1., 1., 1., 1., 1., 1., 1., 1.],\n",
       "       [1., 1., 1., 1., 1., 1., 1., 1., 1., 1.],\n",
       "       [1., 1., 1., 1., 1., 1., 1., 1., 1., 1.],\n",
       "       [1., 1., 1., 1., 1., 1., 1., 1., 1., 1.],\n",
       "       [1., 1., 1., 1., 1., 1., 1., 1., 1., 1.]])"
      ]
     },
     "execution_count": 10,
     "metadata": {},
     "output_type": "execute_result"
    }
   ],
   "source": [
    "unos = np.ones((10,10))\n",
    "unos"
   ]
  },
  {
   "cell_type": "code",
   "execution_count": 11,
   "id": "47d357c9",
   "metadata": {
    "colab": {
     "base_uri": "https://localhost:8080/"
    },
    "id": "47d357c9",
    "outputId": "029d260a-845e-4174-963d-00cd6b9b3249"
   },
   "outputs": [
    {
     "data": {
      "text/plain": [
       "array([[1., 0., 0., 0., 0., 0., 0., 0., 0., 0.],\n",
       "       [0., 1., 0., 0., 0., 0., 0., 0., 0., 0.],\n",
       "       [0., 0., 1., 0., 0., 0., 0., 0., 0., 0.],\n",
       "       [0., 0., 0., 1., 0., 0., 0., 0., 0., 0.],\n",
       "       [0., 0., 0., 0., 1., 0., 0., 0., 0., 0.],\n",
       "       [0., 0., 0., 0., 0., 1., 0., 0., 0., 0.],\n",
       "       [0., 0., 0., 0., 0., 0., 1., 0., 0., 0.],\n",
       "       [0., 0., 0., 0., 0., 0., 0., 1., 0., 0.],\n",
       "       [0., 0., 0., 0., 0., 0., 0., 0., 1., 0.],\n",
       "       [0., 0., 0., 0., 0., 0., 0., 0., 0., 1.]])"
      ]
     },
     "execution_count": 11,
     "metadata": {},
     "output_type": "execute_result"
    }
   ],
   "source": [
    "np.eye(10)\n",
    "identidad = np.identity(10) ## Iguales eye e identity\n",
    "identidad"
   ]
  },
  {
   "cell_type": "code",
   "execution_count": 12,
   "id": "a380a70b",
   "metadata": {
    "colab": {
     "base_uri": "https://localhost:8080/"
    },
    "id": "a380a70b",
    "outputId": "d62a6062-ddc4-48f2-9e2a-a6ccfcd50d6a"
   },
   "outputs": [
    {
     "data": {
      "text/plain": [
       "array([[2., 1., 1., 1., 1., 1., 1., 1., 1., 1.],\n",
       "       [1., 2., 1., 1., 1., 1., 1., 1., 1., 1.],\n",
       "       [1., 1., 2., 1., 1., 1., 1., 1., 1., 1.],\n",
       "       [1., 1., 1., 2., 1., 1., 1., 1., 1., 1.],\n",
       "       [1., 1., 1., 1., 2., 1., 1., 1., 1., 1.],\n",
       "       [1., 1., 1., 1., 1., 2., 1., 1., 1., 1.],\n",
       "       [1., 1., 1., 1., 1., 1., 2., 1., 1., 1.],\n",
       "       [1., 1., 1., 1., 1., 1., 1., 2., 1., 1.],\n",
       "       [1., 1., 1., 1., 1., 1., 1., 1., 2., 1.],\n",
       "       [1., 1., 1., 1., 1., 1., 1., 1., 1., 2.]])"
      ]
     },
     "execution_count": 12,
     "metadata": {},
     "output_type": "execute_result"
    }
   ],
   "source": [
    "unos + identidad"
   ]
  },
  {
   "cell_type": "code",
   "execution_count": 13,
   "id": "b69a51fc",
   "metadata": {
    "colab": {
     "base_uri": "https://localhost:8080/"
    },
    "id": "b69a51fc",
    "outputId": "4b13554b-0413-48c9-ad05-8f3b9bb018fd"
   },
   "outputs": [
    {
     "data": {
      "text/plain": [
       "array([[0., 1., 1., 1., 1., 1., 1., 1., 1., 1.],\n",
       "       [1., 0., 1., 1., 1., 1., 1., 1., 1., 1.],\n",
       "       [1., 1., 0., 1., 1., 1., 1., 1., 1., 1.],\n",
       "       [1., 1., 1., 0., 1., 1., 1., 1., 1., 1.],\n",
       "       [1., 1., 1., 1., 0., 1., 1., 1., 1., 1.],\n",
       "       [1., 1., 1., 1., 1., 0., 1., 1., 1., 1.],\n",
       "       [1., 1., 1., 1., 1., 1., 0., 1., 1., 1.],\n",
       "       [1., 1., 1., 1., 1., 1., 1., 0., 1., 1.],\n",
       "       [1., 1., 1., 1., 1., 1., 1., 1., 0., 1.],\n",
       "       [1., 1., 1., 1., 1., 1., 1., 1., 1., 0.]])"
      ]
     },
     "execution_count": 13,
     "metadata": {},
     "output_type": "execute_result"
    }
   ],
   "source": [
    "unos - identidad"
   ]
  },
  {
   "cell_type": "code",
   "execution_count": 14,
   "id": "169d30e2",
   "metadata": {
    "colab": {
     "base_uri": "https://localhost:8080/"
    },
    "id": "169d30e2",
    "outputId": "b95b7a84-d56e-4dd9-a3cc-9ec8acb78a09"
   },
   "outputs": [
    {
     "data": {
      "text/plain": [
       "array([ 6, 14, 24, 36, 50])"
      ]
     },
     "execution_count": 14,
     "metadata": {},
     "output_type": "execute_result"
    }
   ],
   "source": [
    "a = np.array([1,2,3,4,5])\n",
    "b = np.array([6,7,8,9,10])\n",
    "a * b"
   ]
  },
  {
   "cell_type": "code",
   "execution_count": 15,
   "id": "7092d8fe",
   "metadata": {
    "colab": {
     "base_uri": "https://localhost:8080/"
    },
    "id": "7092d8fe",
    "outputId": "f1533273-22b7-497e-def7-8d88785b6c3d"
   },
   "outputs": [
    {
     "data": {
      "text/plain": [
       "array([0.16666667, 0.28571429, 0.375     , 0.44444444, 0.5       ])"
      ]
     },
     "execution_count": 15,
     "metadata": {},
     "output_type": "execute_result"
    }
   ],
   "source": [
    "a/b ## división elemento a elemento (element-wise)"
   ]
  },
  {
   "cell_type": "code",
   "execution_count": 16,
   "id": "b26de9c7",
   "metadata": {
    "colab": {
     "base_uri": "https://localhost:8080/"
    },
    "id": "b26de9c7",
    "outputId": "488738fc-f0d4-4531-e616-83516125f5b7"
   },
   "outputs": [
    {
     "data": {
      "text/plain": [
       "array([ 1,  4,  9, 16, 25])"
      ]
     },
     "execution_count": 16,
     "metadata": {},
     "output_type": "execute_result"
    }
   ],
   "source": [
    "a ** 2 ##Eleva a potencia, elemento a elemento"
   ]
  },
  {
   "cell_type": "code",
   "execution_count": 17,
   "id": "634b8bd6",
   "metadata": {
    "colab": {
     "base_uri": "https://localhost:8080/"
    },
    "id": "634b8bd6",
    "outputId": "d8bef436-e5cd-4dd2-923a-e8506495b231"
   },
   "outputs": [
    {
     "data": {
      "text/plain": [
       "array([  1,   8,  27,  64, 125], dtype=int32)"
      ]
     },
     "execution_count": 17,
     "metadata": {},
     "output_type": "execute_result"
    }
   ],
   "source": [
    "a ** 3 ##Eleva a potencia, elemento a elemento"
   ]
  },
  {
   "cell_type": "code",
   "execution_count": 18,
   "id": "9ab2ed15",
   "metadata": {
    "colab": {
     "base_uri": "https://localhost:8080/"
    },
    "id": "9ab2ed15",
    "outputId": "b4660cf9-ec9e-473b-927a-312937639ce8"
   },
   "outputs": [
    {
     "data": {
      "text/plain": [
       "array([False, False, False, False, False])"
      ]
     },
     "execution_count": 18,
     "metadata": {},
     "output_type": "execute_result"
    }
   ],
   "source": [
    "a > b"
   ]
  },
  {
   "cell_type": "code",
   "execution_count": 19,
   "id": "7cc645b4",
   "metadata": {
    "colab": {
     "base_uri": "https://localhost:8080/"
    },
    "id": "7cc645b4",
    "outputId": "09f92773-9673-4204-bb81-325a973977fe"
   },
   "outputs": [
    {
     "name": "stdout",
     "output_type": "stream",
     "text": [
      "[7 8 9]\n"
     ]
    },
    {
     "data": {
      "text/plain": [
       "array([ 6, 49, 64, 81, 10])"
      ]
     },
     "execution_count": 19,
     "metadata": {},
     "output_type": "execute_result"
    }
   ],
   "source": [
    "print(b[1:4]) ##Slicing  Incluye el indice de la izq. No incluye el indice de la derecha\n",
    "b[1:4] = b[1:4] ** 2  #puedes hacer operaciones con lo que usas con slicing\n",
    "b"
   ]
  },
  {
   "cell_type": "code",
   "execution_count": 20,
   "id": "75a81e60",
   "metadata": {
    "colab": {
     "base_uri": "https://localhost:8080/"
    },
    "id": "75a81e60",
    "outputId": "95f05734-0bb7-43e3-d9fe-e511a315dcce"
   },
   "outputs": [
    {
     "data": {
      "text/plain": [
       "array([ 0, 49, 64, 81,  0])"
      ]
     },
     "execution_count": 20,
     "metadata": {},
     "output_type": "execute_result"
    }
   ],
   "source": [
    "b[b < 15] = 0\n",
    "b"
   ]
  },
  {
   "cell_type": "code",
   "execution_count": 21,
   "id": "a824cd7b",
   "metadata": {
    "colab": {
     "base_uri": "https://localhost:8080/"
    },
    "id": "a824cd7b",
    "outputId": "38c0ca8d-361d-4ca2-d889-3c3ac572c7ae"
   },
   "outputs": [
    {
     "data": {
      "text/plain": [
       "array([1, 2, 3, 4, 5, 6])"
      ]
     },
     "execution_count": 21,
     "metadata": {},
     "output_type": "execute_result"
    }
   ],
   "source": [
    "c = np.array([1,2,3,4,5,6])\n",
    "c"
   ]
  },
  {
   "cell_type": "code",
   "execution_count": 22,
   "id": "c845cc8f",
   "metadata": {
    "colab": {
     "base_uri": "https://localhost:8080/"
    },
    "id": "c845cc8f",
    "outputId": "6c3a3ec2-86d2-4a50-b410-eb702477038a"
   },
   "outputs": [
    {
     "data": {
      "text/plain": [
       "array([[1, 2, 3],\n",
       "       [4, 5, 6]])"
      ]
     },
     "execution_count": 22,
     "metadata": {},
     "output_type": "execute_result"
    }
   ],
   "source": [
    "c = c.reshape( (2,3) ) ##redimensiona. Pon atención a que las dimensiones tengan sentido\n",
    "c"
   ]
  },
  {
   "cell_type": "code",
   "execution_count": 23,
   "id": "0c4f6c1b",
   "metadata": {
    "colab": {
     "base_uri": "https://localhost:8080/"
    },
    "id": "0c4f6c1b",
    "outputId": "4a4071aa-17f8-4973-c2a3-9c69262eac6c"
   },
   "outputs": [
    {
     "data": {
      "text/plain": [
       "array([[1, 4],\n",
       "       [2, 5],\n",
       "       [3, 6]])"
      ]
     },
     "execution_count": 23,
     "metadata": {},
     "output_type": "execute_result"
    }
   ],
   "source": [
    "c.T   ##Transpuesta"
   ]
  },
  {
   "cell_type": "code",
   "execution_count": 24,
   "id": "c25985cc",
   "metadata": {
    "colab": {
     "base_uri": "https://localhost:8080/"
    },
    "id": "c25985cc",
    "outputId": "76adaf8d-b0fe-467e-8b2d-77096af7829d"
   },
   "outputs": [
    {
     "data": {
      "text/plain": [
       "array([[14, 32],\n",
       "       [32, 77]])"
      ]
     },
     "execution_count": 24,
     "metadata": {},
     "output_type": "execute_result"
    }
   ],
   "source": [
    "##Multiuplicacion matricial con @\n",
    "\n",
    "c @ c.T"
   ]
  },
  {
   "cell_type": "markdown",
   "id": "1b87fba5",
   "metadata": {
    "id": "1b87fba5"
   },
   "source": [
    "## **Generacion de seudoaletorios**"
   ]
  },
  {
   "cell_type": "code",
   "execution_count": 26,
   "id": "653679db",
   "metadata": {
    "colab": {
     "base_uri": "https://localhost:8080/"
    },
    "id": "653679db",
    "outputId": "d700dcf5-77b4-49d3-b15e-6bfaf8851252"
   },
   "outputs": [
    {
     "data": {
      "text/plain": [
       "array([[0.15266373, 0.30235661, 0.06203641, 0.45986034],\n",
       "       [0.83525338, 0.92699705, 0.72698898, 0.76849622],\n",
       "       [0.26920507, 0.64402929, 0.09337326, 0.07968589],\n",
       "       [0.58961375, 0.34334054, 0.98887615, 0.62647321]])"
      ]
     },
     "execution_count": 26,
     "metadata": {},
     "output_type": "execute_result"
    }
   ],
   "source": [
    "import numpy as np\n",
    "np.random.seed(777) #semilla\n",
    "muestreos_uniformes = np.random.random((4,4)) #dist. uniforme entre 0 y 1\n",
    "muestreos_uniformes"
   ]
  },
  {
   "cell_type": "code",
   "execution_count": 27,
   "id": "bd76ac83",
   "metadata": {
    "colab": {
     "base_uri": "https://localhost:8080/"
    },
    "id": "bd76ac83",
    "outputId": "0b29c841-41da-48c6-f854-50aa7be9d03e"
   },
   "outputs": [
    {
     "data": {
      "text/plain": [
       "array([[681.77927978, 552.25681374, 268.86005789, 373.25938644],\n",
       "       [222.928099  , 186.44260036, 390.64809345, 193.16240564],\n",
       "       [610.91093136, 882.80844727, 622.33882432, 253.1189442 ],\n",
       "       [179.93030673, 816.40446962, 225.37162068, 516.85714   ]])"
      ]
     },
     "execution_count": 27,
     "metadata": {},
     "output_type": "execute_result"
    }
   ],
   "source": [
    "muestreos_uniformes2 = np.random.uniform(0, 1000,(4,4)) #dist. uniforme entre a y b\n",
    "muestreos_uniformes2"
   ]
  },
  {
   "cell_type": "code",
   "execution_count": 28,
   "id": "0dee3f5d",
   "metadata": {
    "colab": {
     "base_uri": "https://localhost:8080/"
    },
    "id": "0dee3f5d",
    "outputId": "0c0acaa4-82ac-48f7-a7f4-d005d8f705ea"
   },
   "outputs": [
    {
     "data": {
      "text/plain": [
       "array([ 2.4793696 ,  0.45686676, -0.31387278, ...,  0.72672816,\n",
       "        0.99836861, -0.79145937])"
      ]
     },
     "execution_count": 28,
     "metadata": {},
     "output_type": "execute_result"
    }
   ],
   "source": [
    "muestreos_normal = np.random.standard_normal((10000)) #normal estandar -- media 0 y varianza 1\n",
    "muestreos_normal"
   ]
  },
  {
   "cell_type": "code",
   "execution_count": 29,
   "id": "xvEwgM-L0XcO",
   "metadata": {
    "colab": {
     "base_uri": "https://localhost:8080/"
    },
    "id": "xvEwgM-L0XcO",
    "outputId": "d69d94af-f9a4-4409-bfe7-74683dd02129"
   },
   "outputs": [
    {
     "data": {
      "text/plain": [
       "0.011970730043268148"
      ]
     },
     "execution_count": 29,
     "metadata": {},
     "output_type": "execute_result"
    }
   ],
   "source": [
    "muestreos_normal.mean()"
   ]
  },
  {
   "cell_type": "code",
   "execution_count": 30,
   "id": "TQRc3qqr0Z_H",
   "metadata": {
    "colab": {
     "base_uri": "https://localhost:8080/"
    },
    "id": "TQRc3qqr0Z_H",
    "outputId": "b86e1a0c-cc90-4d6e-c1df-e918248d4c8b"
   },
   "outputs": [
    {
     "data": {
      "text/plain": [
       "1.0085730532174342"
      ]
     },
     "execution_count": 30,
     "metadata": {},
     "output_type": "execute_result"
    }
   ],
   "source": [
    "muestreos_normal.std()"
   ]
  },
  {
   "cell_type": "code",
   "execution_count": 31,
   "id": "ec0b8cc2",
   "metadata": {
    "colab": {
     "base_uri": "https://localhost:8080/"
    },
    "id": "ec0b8cc2",
    "outputId": "71e970c6-658d-4ed5-a491-cad6cf725ead"
   },
   "outputs": [
    {
     "data": {
      "text/plain": [
       "array([[49.68504847, 51.78072882, 49.61916596, 49.46980995],\n",
       "       [50.33987804, 49.78992298, 49.52923959, 49.79154221],\n",
       "       [49.63037779, 50.31201122, 48.62298538, 50.01493108],\n",
       "       [49.99913218, 49.24067354, 49.27597808, 49.78423684]])"
      ]
     },
     "execution_count": 31,
     "metadata": {},
     "output_type": "execute_result"
    }
   ],
   "source": [
    "muestreos_normal = np.random.normal(50,1,(4,4)) #normal (media, desviacion estandar, dimensiones)\n",
    "muestreos_normal"
   ]
  },
  {
   "cell_type": "markdown",
   "id": "8e1d6e86",
   "metadata": {
    "id": "8e1d6e86"
   },
   "source": [
    "# **Pandas**"
   ]
  },
  {
   "cell_type": "markdown",
   "id": "5fAffWzr1Ko4",
   "metadata": {
    "id": "5fAffWzr1Ko4"
   },
   "source": [
    "https://profile.es/blog/pandas-python/"
   ]
  },
  {
   "cell_type": "markdown",
   "id": "UGpzR4HhIUu2",
   "metadata": {
    "id": "UGpzR4HhIUu2"
   },
   "source": []
  },
  {
   "cell_type": "code",
   "execution_count": 35,
   "id": "qddxE0oSlUok",
   "metadata": {
    "id": "qddxE0oSlUok"
   },
   "outputs": [],
   "source": [
    "# pip install yfinance\n",
    "# pip install --upgrade yfinance"
   ]
  },
  {
   "cell_type": "code",
   "execution_count": 36,
   "id": "061c4658",
   "metadata": {
    "colab": {
     "base_uri": "https://localhost:8080/"
    },
    "id": "061c4658",
    "outputId": "8c6eb4da-a053-4df7-9582-c277dfa5d95d"
   },
   "outputs": [
    {
     "name": "stdout",
     "output_type": "stream",
     "text": [
      "YF.download() has changed argument auto_adjust default to True\n"
     ]
    },
    {
     "name": "stderr",
     "output_type": "stream",
     "text": [
      "[*********************100%***********************]  2 of 2 completed\n"
     ]
    }
   ],
   "source": [
    "import yfinance as yf\n",
    "data = yf.download(['AMZN', 'AAPL'], start='2022-01-01', end='2025-01-20')[\"Close\"]"
   ]
  },
  {
   "cell_type": "code",
   "execution_count": 37,
   "id": "d3dfd4fb",
   "metadata": {
    "colab": {
     "base_uri": "https://localhost:8080/"
    },
    "id": "d3dfd4fb",
    "outputId": "e020e6c1-b0f3-407c-d874-9ace7a9d60f2"
   },
   "outputs": [
    {
     "data": {
      "text/plain": [
       "145.23796288255622"
      ]
     },
     "execution_count": 37,
     "metadata": {},
     "output_type": "execute_result"
    }
   ],
   "source": [
    "data[\"AMZN\"].mean()"
   ]
  },
  {
   "cell_type": "code",
   "execution_count": 38,
   "id": "5fcf9d52",
   "metadata": {
    "colab": {
     "base_uri": "https://localhost:8080/",
     "height": 573
    },
    "id": "5fcf9d52",
    "outputId": "20ef2432-da4d-40ad-ffa3-9e9197334cc2"
   },
   "outputs": [
    {
     "data": {
      "image/png": "[encoded data removed]",
      "text/plain": [
       "<Figure size 1200x600 with 1 Axes>"
      ]
     },
     "metadata": {},
     "output_type": "display_data"
    }
   ],
   "source": [
    "\n",
    "import matplotlib.pyplot as plt\n",
    "\n",
    "# Graficar los precios\n",
    "plt.figure(figsize=(12, 6))\n",
    "plt.plot(data.index, data['AMZN'], label='Precio AMZN', color='orange')\n",
    "plt.title('Evolución del precio de Amazon', fontsize=16)\n",
    "plt.xlabel('Fecha', fontsize=14)\n",
    "plt.ylabel('Precio', fontsize=14)\n",
    "plt.legend()\n",
    "plt.show()"
   ]
  },
  {
   "cell_type": "code",
   "execution_count": 39,
   "id": "99c251f9",
   "metadata": {
    "colab": {
     "base_uri": "https://localhost:8080/",
     "height": 564
    },
    "id": "99c251f9",
    "outputId": "cd436e53-68b2-491c-bef8-6203150ade99"
   },
   "outputs": [
    {
     "data": {
      "image/png": "[encoded data removed]",
      "text/plain": [
       "<Figure size 1200x600 with 1 Axes>"
      ]
     },
     "metadata": {},
     "output_type": "display_data"
    }
   ],
   "source": [
    "import matplotlib.pyplot as plt\n",
    "import seaborn as sns\n",
    "plt.figure(figsize=(12,6))\n",
    "plt.plot(data.index, data['AAPL'], label='Precio AAPL', color='grey')\n",
    "plt.title('Precio de cierre de AAPL')\n",
    "plt.xlabel('Fecha')\n",
    "plt.ylabel('Precio de cierre ($)')\n",
    "plt.show()\n"
   ]
  },
  {
   "cell_type": "code",
   "execution_count": 40,
   "id": "qKuBnGusX2Q1",
   "metadata": {
    "colab": {
     "base_uri": "https://localhost:8080/",
     "height": 235
    },
    "id": "qKuBnGusX2Q1",
    "outputId": "68db5a6e-e7ce-41aa-9210-c134a3cdef12"
   },
   "outputs": [
    {
     "data": {
      "text/html": [
       "<div>\n",
       "<style scoped>\n",
       "    .dataframe tbody tr th:only-of-type {\n",
       "        vertical-align: middle;\n",
       "    }\n",
       "\n",
       "    .dataframe tbody tr th {\n",
       "        vertical-align: top;\n",
       "    }\n",
       "\n",
       "    .dataframe thead th {\n",
       "        text-align: right;\n",
       "    }\n",
       "</style>\n",
       "<table border=\"1\" class=\"dataframe\">\n",
       "  <thead>\n",
       "    <tr style=\"text-align: right;\">\n",
       "      <th>Ticker</th>\n",
       "      <th>AAPL</th>\n",
       "      <th>AMZN</th>\n",
       "    </tr>\n",
       "    <tr>\n",
       "      <th>Date</th>\n",
       "      <th></th>\n",
       "      <th></th>\n",
       "    </tr>\n",
       "  </thead>\n",
       "  <tbody>\n",
       "    <tr>\n",
       "      <th>2022-01-03</th>\n",
       "      <td>178.443100</td>\n",
       "      <td>170.404495</td>\n",
       "    </tr>\n",
       "    <tr>\n",
       "      <th>2022-01-04</th>\n",
       "      <td>176.178406</td>\n",
       "      <td>167.522003</td>\n",
       "    </tr>\n",
       "    <tr>\n",
       "      <th>2022-01-05</th>\n",
       "      <td>171.492065</td>\n",
       "      <td>164.356995</td>\n",
       "    </tr>\n",
       "    <tr>\n",
       "      <th>2022-01-06</th>\n",
       "      <td>168.629318</td>\n",
       "      <td>163.253998</td>\n",
       "    </tr>\n",
       "    <tr>\n",
       "      <th>2022-01-07</th>\n",
       "      <td>168.796005</td>\n",
       "      <td>162.554001</td>\n",
       "    </tr>\n",
       "  </tbody>\n",
       "</table>\n",
       "</div>"
      ],
      "text/plain": [
       "Ticker            AAPL        AMZN\n",
       "Date                              \n",
       "2022-01-03  178.443100  170.404495\n",
       "2022-01-04  176.178406  167.522003\n",
       "2022-01-05  171.492065  164.356995\n",
       "2022-01-06  168.629318  163.253998\n",
       "2022-01-07  168.796005  162.554001"
      ]
     },
     "execution_count": 40,
     "metadata": {},
     "output_type": "execute_result"
    }
   ],
   "source": [
    "data.head()"
   ]
  },
  {
   "cell_type": "markdown",
   "id": "PLIehBFosk0a",
   "metadata": {
    "id": "PLIehBFosk0a"
   },
   "source": [
    "## Actividad de clase\n",
    "\n",
    "Obtén los datos de las siguientes empresas desde el 1 de enero de 2020 hasta hoy:\n",
    "\n",
    "Bank of America\n",
    "\n",
    "Intel\n",
    "\n",
    "Microsoft\n",
    "\n",
    "Apple\n",
    "\n",
    "Una acción libre (Escoge la que quieras de NYSE)\n",
    "\n"
   ]
  },
  {
   "cell_type": "code",
   "execution_count": null,
   "id": "FbyGtjqlX7ig",
   "metadata": {
    "id": "FbyGtjqlX7ig"
   },
   "outputs": [],
   "source": []
  },
  {
   "cell_type": "markdown",
   "id": "FIHMmIiVtYoQ",
   "metadata": {
    "id": "FIHMmIiVtYoQ"
   },
   "source": [
    "Grafica sus precios de cierre ajustado:  Adj Close  "
   ]
  },
  {
   "cell_type": "code",
   "execution_count": null,
   "id": "Fe2qbU25X-MY",
   "metadata": {
    "id": "Fe2qbU25X-MY"
   },
   "outputs": [],
   "source": []
  },
  {
   "cell_type": "markdown",
   "id": "zIyVUDppRY0r",
   "metadata": {
    "id": "zIyVUDppRY0r"
   },
   "source": [
    "Obtén el precio de cierre ajustado promedio por acción"
   ]
  },
  {
   "cell_type": "code",
   "execution_count": null,
   "id": "SrBw8clWtLLe",
   "metadata": {
    "id": "SrBw8clWtLLe"
   },
   "outputs": [],
   "source": []
  },
  {
   "cell_type": "markdown",
   "id": "jyfZXxmKtlVy",
   "metadata": {
    "id": "jyfZXxmKtlVy"
   },
   "source": [
    "Encuentra qué días en los que Apple ha tenido un precio de cierre ajustado mayor a su precio de cierre promedio en el periodo"
   ]
  },
  {
   "cell_type": "code",
   "execution_count": null,
   "id": "-A0CV7NXYCZu",
   "metadata": {
    "id": "-A0CV7NXYCZu"
   },
   "outputs": [],
   "source": []
  },
  {
   "cell_type": "markdown",
   "id": "enZM3-ZutV4t",
   "metadata": {
    "id": "enZM3-ZutV4t"
   },
   "source": [
    "Encuentra los 10 días que Microsoft tuvo mayor rendimiento"
   ]
  },
  {
   "cell_type": "code",
   "execution_count": null,
   "id": "gRJUkRkYtVZ0",
   "metadata": {
    "id": "gRJUkRkYtVZ0"
   },
   "outputs": [],
   "source": []
  },
  {
   "cell_type": "markdown",
   "id": "Urihe7TVQl2I",
   "metadata": {
    "id": "Urihe7TVQl2I"
   },
   "source": [
    "Si hubieras invertido 100 dolares en cada una de esas acciones justo el 1 de enero de 2020 (100 en Tesla, 100 en Bank of America, etc.) , ¿cuánto valdrían hoy? Asume que es posible adquirir fracciones de acciones.\n",
    "\n",
    "Ejemplo con datos inventados:\n",
    "\n",
    "Apple valdría 156\n",
    "\n",
    "Intc valdría 80\n",
    "\n",
    "Bac valdría 120\n"
   ]
  },
  {
   "cell_type": "code",
   "execution_count": null,
   "id": "aab0L9FAQlUo",
   "metadata": {
    "id": "aab0L9FAQlUo"
   },
   "outputs": [],
   "source": []
  }
 ],
 "metadata": {
  "colab": {
   "provenance": []
  },
  "kernelspec": {
   "display_name": "Python [conda env:base] *",
   "language": "python",
   "name": "conda-base-py"
  },
  "language_info": {
   "codemirror_mode": {
    "name": "ipython",
    "version": 3
   },
   "file_extension": ".py",
   "mimetype": "text/x-python",
   "name": "python",
   "nbconvert_exporter": "python",
   "pygments_lexer": "ipython3",
   "version": "3.11.5"
  }
 },
 "nbformat": 4,
 "nbformat_minor": 5
}
