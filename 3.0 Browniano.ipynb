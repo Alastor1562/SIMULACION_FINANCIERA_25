{
 "cells": [
  {
   "cell_type": "code",
   "execution_count": 169,
   "id": "d1eaf6b5",
   "metadata": {},
   "outputs": [],
   "source": [
    "import numpy as np\n",
    "import pandas as pd\n",
    "import matplotlib.pyplot as plt\n",
    "import yfinance as yf\n",
    "import datetime as dt"
   ]
  },
  {
   "cell_type": "code",
   "execution_count": 170,
   "id": "7e5c8370",
   "metadata": {},
   "outputs": [
    {
     "name": "stderr",
     "output_type": "stream",
     "text": [
      "C:\\Users\\samue\\AppData\\Local\\Temp\\ipykernel_19020\\2219046847.py:3: FutureWarning: YF.download() has changed argument auto_adjust default to True\n",
      "  prices = yf.download(tickers,start='2020-01-01', end='2025-01-01')['Close']\n",
      "[*********************100%***********************]  1 of 1 completed"
     ]
    },
    {
     "name": "stderr",
     "output_type": "stream",
     "text": [
      "\n"
     ]
    },
    {
     "data": {
      "text/html": [
       "<div>\n",
       "<style scoped>\n",
       "    .dataframe tbody tr th:only-of-type {\n",
       "        vertical-align: middle;\n",
       "    }\n",
       "\n",
       "    .dataframe tbody tr th {\n",
       "        vertical-align: top;\n",
       "    }\n",
       "\n",
       "    .dataframe thead th {\n",
       "        text-align: right;\n",
       "    }\n",
       "</style>\n",
       "<table border=\"1\" class=\"dataframe\">\n",
       "  <thead>\n",
       "    <tr style=\"text-align: right;\">\n",
       "      <th>Ticker</th>\n",
       "      <th>MSFT</th>\n",
       "    </tr>\n",
       "    <tr>\n",
       "      <th>Date</th>\n",
       "      <th></th>\n",
       "    </tr>\n",
       "  </thead>\n",
       "  <tbody>\n",
       "    <tr>\n",
       "      <th>2020-01-03</th>\n",
       "      <td>-0.012452</td>\n",
       "    </tr>\n",
       "    <tr>\n",
       "      <th>2020-01-06</th>\n",
       "      <td>0.002584</td>\n",
       "    </tr>\n",
       "    <tr>\n",
       "      <th>2020-01-07</th>\n",
       "      <td>-0.009118</td>\n",
       "    </tr>\n",
       "    <tr>\n",
       "      <th>2020-01-08</th>\n",
       "      <td>0.015928</td>\n",
       "    </tr>\n",
       "    <tr>\n",
       "      <th>2020-01-09</th>\n",
       "      <td>0.012493</td>\n",
       "    </tr>\n",
       "  </tbody>\n",
       "</table>\n",
       "</div>"
      ],
      "text/plain": [
       "Ticker          MSFT\n",
       "Date                \n",
       "2020-01-03 -0.012452\n",
       "2020-01-06  0.002584\n",
       "2020-01-07 -0.009118\n",
       "2020-01-08  0.015928\n",
       "2020-01-09  0.012493"
      ]
     },
     "execution_count": 170,
     "metadata": {},
     "output_type": "execute_result"
    }
   ],
   "source": [
    "tickers = ['MSFT']\n",
    "\n",
    "prices = yf.download(tickers,start='2020-01-01', end='2025-01-01')['Close']\n",
    "\n",
    "returns = prices.pct_change().dropna()\n",
    "returns.head()"
   ]
  },
  {
   "cell_type": "code",
   "execution_count": 171,
   "id": "bea8a048",
   "metadata": {},
   "outputs": [
    {
     "data": {
      "text/plain": [
       "Ticker\n",
       "MSFT    0.098782\n",
       "dtype: float64"
      ]
     },
     "execution_count": 171,
     "metadata": {},
     "output_type": "execute_result"
    }
   ],
   "source": [
    "# Rendimiento promedio diario\n",
    "mu = returns.mean()\n",
    "mu * 100"
   ]
  },
  {
   "cell_type": "code",
   "execution_count": 172,
   "id": "5d2404f3",
   "metadata": {},
   "outputs": [
    {
     "data": {
      "text/plain": [
       "Ticker\n",
       "MSFT    28.249576\n",
       "dtype: float64"
      ]
     },
     "execution_count": 172,
     "metadata": {},
     "output_type": "execute_result"
    }
   ],
   "source": [
    "# Rendimiento anual promedio\n",
    "((1 + mu)**252 - 1) * 100"
   ]
  },
  {
   "cell_type": "code",
   "execution_count": 173,
   "id": "21a59968",
   "metadata": {},
   "outputs": [
    {
     "data": {
      "text/plain": [
       "Ticker\n",
       "MSFT    1.921144\n",
       "dtype: float64"
      ]
     },
     "execution_count": 173,
     "metadata": {},
     "output_type": "execute_result"
    }
   ],
   "source": [
    "# Volatilidad diaria\n",
    "vol = returns.std()\n",
    "vol * 100"
   ]
  },
  {
   "cell_type": "code",
   "execution_count": 174,
   "id": "eea72520",
   "metadata": {},
   "outputs": [
    {
     "data": {
      "text/plain": [
       "Ticker\n",
       "MSFT    30.497209\n",
       "dtype: float64"
      ]
     },
     "execution_count": 174,
     "metadata": {},
     "output_type": "execute_result"
    }
   ],
   "source": [
    "# Volatilidad anual\n",
    "vol * np.sqrt(252) * 100"
   ]
  },
  {
   "cell_type": "code",
   "execution_count": 175,
   "id": "614eaa4e",
   "metadata": {},
   "outputs": [],
   "source": [
    "def get_data(ticker, start, end):\n",
    "    data = yf.download(ticker, start=start, end=end, progress=False)['Close']\n",
    "    returns = data.pct_change().dropna()\n",
    "    mu = returns.mean()\n",
    "    sigma = returns.std()\n",
    "    return data, mu, sigma"
   ]
  },
  {
   "cell_type": "code",
   "execution_count": 176,
   "id": "cda8fb94",
   "metadata": {},
   "outputs": [
    {
     "name": "stderr",
     "output_type": "stream",
     "text": [
      "C:\\Users\\samue\\AppData\\Local\\Temp\\ipykernel_19020\\281825744.py:2: FutureWarning: YF.download() has changed argument auto_adjust default to True\n",
      "  data = yf.download(ticker, start=start, end=end, progress=False)['Close']\n"
     ]
    },
    {
     "data": {
      "text/plain": [
       "(Ticker\n",
       " MSFT    0.098782\n",
       " dtype: float64,\n",
       " Ticker\n",
       " MSFT    1.921144\n",
       " dtype: float64)"
      ]
     },
     "execution_count": 176,
     "metadata": {},
     "output_type": "execute_result"
    }
   ],
   "source": [
    "data, mu, sigma = get_data('MSFT', '2020-01-01', '2025-01-01')\n",
    "mu * 100, sigma * 100"
   ]
  },
  {
   "cell_type": "code",
   "execution_count": 177,
   "id": "dccb84bf",
   "metadata": {},
   "outputs": [],
   "source": [
    "# Obtener rendimientos y precios simulados\n",
    "Z = np.random.normal(0, 1, 1000)\n",
    "simulated_returns = np.array(mu) + np.array(sigma) * Z\n",
    "\n",
    "# Rendimientos del activo modelados como mu + sigma * Z\n",
    "# Z es una normal estándar"
   ]
  },
  {
   "cell_type": "code",
   "execution_count": 178,
   "id": "ea49c38e",
   "metadata": {},
   "outputs": [],
   "source": [
    "cumulative_returns = (1 + simulated_returns).cumprod()"
   ]
  },
  {
   "cell_type": "code",
   "execution_count": 179,
   "id": "ddb40bec",
   "metadata": {},
   "outputs": [
    {
     "data": {
      "text/plain": [
       "array([419.19656372])"
      ]
     },
     "execution_count": 179,
     "metadata": {},
     "output_type": "execute_result"
    }
   ],
   "source": [
    "initial_price = np.array(prices.iloc[-1])\n",
    "initial_price"
   ]
  },
  {
   "cell_type": "code",
   "execution_count": 180,
   "id": "981a2105",
   "metadata": {},
   "outputs": [
    {
     "data": {
      "image/png": "[encoded data removed]",
      "text/plain": [
       "<Figure size 640x480 with 1 Axes>"
      ]
     },
     "metadata": {},
     "output_type": "display_data"
    }
   ],
   "source": [
    "simulated_prices = initial_price * cumulative_returns\n",
    "\n",
    "plt.plot(simulated_prices)\n",
    "plt.title('Simulated Stock Prices')\n",
    "plt.show()"
   ]
  },
  {
   "cell_type": "code",
   "execution_count": null,
   "id": "b950988b",
   "metadata": {},
   "outputs": [],
   "source": []
  }
 ],
 "metadata": {
  "kernelspec": {
   "display_name": "Python 3",
   "language": "python",
   "name": "python3"
  },
  "language_info": {
   "codemirror_mode": {
    "name": "ipython",
    "version": 3
   },
   "file_extension": ".py",
   "mimetype": "text/x-python",
   "name": "python",
   "nbconvert_exporter": "python",
   "pygments_lexer": "ipython3",
   "version": "3.13.7"
  }
 },
 "nbformat": 4,
 "nbformat_minor": 5
}
