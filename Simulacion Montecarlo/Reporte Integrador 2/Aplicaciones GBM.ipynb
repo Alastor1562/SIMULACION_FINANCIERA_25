{
 "cells": [
  {
   "cell_type": "code",
   "execution_count": 2,
   "id": "d37196a3",
   "metadata": {},
   "outputs": [],
   "source": [
    "import numpy as np\n",
    "import pandas as pd\n",
    "import matplotlib.pyplot as plt\n",
    "import yfinance as yf\n",
    "import datetime as dt\n",
    "\n",
    "import warnings\n",
    "warnings.filterwarnings(\"ignore\")\n",
    "\n",
    "np.random.seed(42)"
   ]
  },
  {
   "cell_type": "markdown",
   "id": "a39b8af1",
   "metadata": {},
   "source": [
    "## Aplicación 1: Comparar diferentes composiciones de portafolio\n",
    "\n",
    "**Objetivo:** Analizar cómo cambian los rendimientos y el riesgo al modificar los pesos de los activos.\n",
    "\n",
    "**Instrucciones:**\n",
    "\n",
    "1. Definan tres combinaciones distintas de pesos entre los activos (ejemplo: Portafolio A = 70%/30%, Portafolio B = 50%/50%, Portafolio C = 20%/80%).\n",
    "\n",
    "2. Simulen al menos 1,000 trayectorias de rendimientos para cada portafolio.\n",
    "\n",
    "3. Calculen y comparen:\n",
    "\n",
    "    * Rendimiento promedio.\n",
    "\n",
    "    * Desviación estándar.\n",
    "\n",
    "4. Construyan gráficos para cada portafolio:\n",
    "\n",
    "    * Histogramas o boxplots de los rendimientos simulados.\n",
    "\n",
    "    * Un cuadro comparativo con medias y desviaciones estándar.\n",
    "\n",
    "5. Redacten una breve conclusión indicando qué portafolio resulta más riesgoso y cuál se percibe más atractivo.\n",
    "\n",
    "### Activos Seleccionados\n",
    "* NVDA\n",
    "* Oracle\n",
    "\n",
    "### Indicaciones\n",
    "* 30 días\n",
    "* 1,000 simulaciones"
   ]
  },
  {
   "cell_type": "code",
   "execution_count": 3,
   "id": "291a0159",
   "metadata": {},
   "outputs": [],
   "source": [
    "tickers = ['NVDA', 'ORCL']\n",
    "start = '2020-01-01'\n",
    "end = '2025-09-24'\n",
    "num_dias = 30\n",
    "num_simulaciones = 1000"
   ]
  },
  {
   "cell_type": "code",
   "execution_count": 4,
   "id": "fc08e284",
   "metadata": {},
   "outputs": [],
   "source": [
    "def simulacion_portafolio(tickers: list, start: str, end: str, w, num_dias, num_simulaciones):\n",
    "\n",
    "  # Descargar los precios de los tickers\n",
    "  prices = yf.download(tickers, start=start, end=end)['Close']\n",
    "\n",
    "  # Calcular los rendimientos diarios\n",
    "  returns = prices.pct_change().dropna()\n",
    "\n",
    "  # rendimiento promedio\n",
    "  mu = returns.mean().values\n",
    "\n",
    "  # Covarianza\n",
    "  cov = returns.cov().values\n",
    "\n",
    "  # Definimos w como un array\n",
    "  w = np.array(w)\n",
    "\n",
    "  # Matriz para contener los rendimientos del portafolio\n",
    "  p_returns = np.full(shape = (num_simulaciones, num_dias), fill_value = 0.0)\n",
    "  for i in range(num_simulaciones):\n",
    "    L = np.linalg.cholesky(cov)\n",
    "    Z = np.random.normal(0, 1, (num_dias, len(w)))\n",
    "    daily_returns = np.array(mu) + Z @ L.T\n",
    "\n",
    "    daily_p_returns = daily_returns @ w\n",
    "    cumulative_returns = np.cumprod(1 + daily_p_returns)\n",
    "    p_returns[i, :] = cumulative_returns\n",
    "\n",
    "  return p_returns"
   ]
  },
  {
   "cell_type": "markdown",
   "id": "0836f9e2",
   "metadata": {},
   "source": [
    "### Primer Peso"
   ]
  },
  {
   "cell_type": "code",
   "execution_count": 5,
   "id": "28eb9f20",
   "metadata": {},
   "outputs": [
    {
     "name": "stderr",
     "output_type": "stream",
     "text": [
      "[*********************100%***********************]  2 of 2 completed"
     ]
    },
    {
     "name": "stdout",
     "output_type": "stream",
     "text": [
      "Rendimiento Promedio: 8.29%\n"
     ]
    },
    {
     "name": "stderr",
     "output_type": "stream",
     "text": [
      "\n"
     ]
    }
   ],
   "source": [
    "p_returns = simulacion_portafolio(tickers, start, end, [0.7, 0.3], num_dias, num_simulaciones)\n",
    "sim_returns = p_returns[:, -1] - 1\n",
    "\n",
    "# Rendimiento Promedio\n",
    "peso_1_mean  = sim_returns.mean()\n",
    "print(f'Rendimiento Promedio: {sim_returns.mean():.2%}')"
   ]
  },
  {
   "cell_type": "code",
   "execution_count": 6,
   "id": "b3c856b5",
   "metadata": {},
   "outputs": [
    {
     "name": "stdout",
     "output_type": "stream",
     "text": [
      "Desviación Estandar: 17.09%\n"
     ]
    }
   ],
   "source": [
    "# Desviación estandar\n",
    "peso_1_std  = sim_returns.std()\n",
    "print(f'Desviación Estandar: {sim_returns.std():.2%}')"
   ]
  },
  {
   "cell_type": "code",
   "execution_count": 7,
   "id": "9cd8a73d",
   "metadata": {},
   "outputs": [
    {
     "data": {
      "image/png": "[encoded data removed]",
      "text/plain": [
       "<Figure size 640x480 with 1 Axes>"
      ]
     },
     "metadata": {},
     "output_type": "display_data"
    }
   ],
   "source": [
    "# histograma de rendimientos\n",
    "plt.hist(sim_returns, bins=50)\n",
    "plt.show()"
   ]
  },
  {
   "cell_type": "markdown",
   "id": "ce19354d",
   "metadata": {},
   "source": [
    "### Segundo Peso"
   ]
  },
  {
   "cell_type": "code",
   "execution_count": 8,
   "id": "b3267910",
   "metadata": {},
   "outputs": [
    {
     "name": "stderr",
     "output_type": "stream",
     "text": [
      "[*********************100%***********************]  2 of 2 completed\n"
     ]
    }
   ],
   "source": [
    "p_returns_2 = simulacion_portafolio(tickers, start, end, [0.5, 0.5], num_dias, num_simulaciones)\n",
    "sim_returns_2 = p_returns_2[:, -1] - 1"
   ]
  },
  {
   "cell_type": "code",
   "execution_count": 9,
   "id": "ab11cfbc",
   "metadata": {},
   "outputs": [
    {
     "name": "stdout",
     "output_type": "stream",
     "text": [
      "Rendimiento Promedio: 8.29%\n"
     ]
    }
   ],
   "source": [
    "peso_2_mean  = sim_returns_2.mean()\n",
    "print(f'Rendimiento Promedio: {sim_returns.mean():.2%}')"
   ]
  },
  {
   "cell_type": "code",
   "execution_count": 10,
   "id": "999ab633",
   "metadata": {},
   "outputs": [
    {
     "name": "stdout",
     "output_type": "stream",
     "text": [
      "Desviación Estandar: 17.09%\n"
     ]
    }
   ],
   "source": [
    "peso_2_std  = sim_returns_2.std()\n",
    "print(f'Desviación Estandar: {sim_returns.std():.2%}')"
   ]
  },
  {
   "cell_type": "code",
   "execution_count": 11,
   "id": "0f9755a8",
   "metadata": {},
   "outputs": [
    {
     "data": {
      "image/png": "[encoded data removed]",
      "text/plain": [
       "<Figure size 640x480 with 1 Axes>"
      ]
     },
     "metadata": {},
     "output_type": "display_data"
    }
   ],
   "source": [
    "plt.hist(sim_returns_2, bins=50)\n",
    "plt.show()"
   ]
  },
  {
   "cell_type": "markdown",
   "id": "805e65f3",
   "metadata": {},
   "source": [
    "### Tercer Peso"
   ]
  },
  {
   "cell_type": "code",
   "execution_count": 12,
   "id": "c6e9d806",
   "metadata": {},
   "outputs": [
    {
     "name": "stderr",
     "output_type": "stream",
     "text": [
      "[*********************100%***********************]  2 of 2 completed\n"
     ]
    }
   ],
   "source": [
    "p_returns_3 = simulacion_portafolio(tickers, start, end, [0.2, 0.8], num_dias, num_simulaciones)\n",
    "sim_returns_3 = p_returns_3[:, -1] - 1"
   ]
  },
  {
   "cell_type": "code",
   "execution_count": 13,
   "id": "574e28fe",
   "metadata": {},
   "outputs": [
    {
     "name": "stdout",
     "output_type": "stream",
     "text": [
      "Rendimiento Promedio: 8.29%\n"
     ]
    }
   ],
   "source": [
    "peso_3_mean  = sim_returns_3.mean()\n",
    "print(f'Rendimiento Promedio: {sim_returns.mean():.2%}')"
   ]
  },
  {
   "cell_type": "code",
   "execution_count": 14,
   "id": "27c4802d",
   "metadata": {},
   "outputs": [
    {
     "name": "stdout",
     "output_type": "stream",
     "text": [
      "Desviación Estandar: 17.09%\n"
     ]
    }
   ],
   "source": [
    "peso_3_std  = sim_returns_3.std()\n",
    "print(f'Desviación Estandar: {sim_returns.std():.2%}')"
   ]
  },
  {
   "cell_type": "code",
   "execution_count": 15,
   "id": "5155bada",
   "metadata": {},
   "outputs": [
    {
     "data": {
      "image/png": "[encoded data removed]",
      "text/plain": [
       "<Figure size 640x480 with 1 Axes>"
      ]
     },
     "metadata": {},
     "output_type": "display_data"
    }
   ],
   "source": [
    "plt.hist(sim_returns_3, bins=50)\n",
    "plt.show()"
   ]
  },
  {
   "cell_type": "markdown",
   "id": "a8de7063",
   "metadata": {},
   "source": [
    "### Tabla Comparativa"
   ]
  },
  {
   "cell_type": "code",
   "execution_count": 16,
   "id": "58bc1340",
   "metadata": {},
   "outputs": [
    {
     "data": {
      "text/html": [
       "<div>\n",
       "<style scoped>\n",
       "    .dataframe tbody tr th:only-of-type {\n",
       "        vertical-align: middle;\n",
       "    }\n",
       "\n",
       "    .dataframe tbody tr th {\n",
       "        vertical-align: top;\n",
       "    }\n",
       "\n",
       "    .dataframe thead th {\n",
       "        text-align: right;\n",
       "    }\n",
       "</style>\n",
       "<table border=\"1\" class=\"dataframe\">\n",
       "  <thead>\n",
       "    <tr style=\"text-align: right;\">\n",
       "      <th></th>\n",
       "      <th>Peso 1</th>\n",
       "      <th>Peso 2</th>\n",
       "      <th>Peso 3</th>\n",
       "    </tr>\n",
       "  </thead>\n",
       "  <tbody>\n",
       "    <tr>\n",
       "      <th>Rendimiento Promedio</th>\n",
       "      <td>0.082938</td>\n",
       "      <td>0.075839</td>\n",
       "      <td>0.057674</td>\n",
       "    </tr>\n",
       "    <tr>\n",
       "      <th>Desviación Estandar</th>\n",
       "      <td>0.170867</td>\n",
       "      <td>0.147178</td>\n",
       "      <td>0.132749</td>\n",
       "    </tr>\n",
       "  </tbody>\n",
       "</table>\n",
       "</div>"
      ],
      "text/plain": [
       "                        Peso 1    Peso 2    Peso 3\n",
       "Rendimiento Promedio  0.082938  0.075839  0.057674\n",
       "Desviación Estandar   0.170867  0.147178  0.132749"
      ]
     },
     "execution_count": 16,
     "metadata": {},
     "output_type": "execute_result"
    }
   ],
   "source": [
    "# tabla comparativa de desviaciones y medias\n",
    "pd.DataFrame({'Peso 1': [peso_1_mean, peso_1_std], 'Peso 2': [peso_2_mean, peso_2_std], 'Peso 3': [peso_3_mean, peso_3_std]}, index=['Rendimiento Promedio', 'Desviación Estandar'])"
   ]
  },
  {
   "cell_type": "markdown",
   "id": "0b3558e6",
   "metadata": {},
   "source": [
    "## Aplicación 2: Estimación de métricas de riesgo\n",
    "**Objetivo:** Cuantificar el riesgo de un portafolio a partir de las simulaciones.\n",
    "\n",
    "**Instrucciones:**\n",
    "\n",
    "1. Seleccionen un portafolio (puede ser uno de la Aplicación 1). \n",
    "\n",
    "2. A partir de sus simulaciones, calculen:\n",
    "\n",
    "- Probabilidad de pérdida: P(r < 0).\n",
    "\n",
    "- Valor en Riesgo (VaR) al 95% y al 99%.\n",
    "\n",
    "- Expected Shortfall (o CVaR) al 95%.\n",
    "\n",
    "3. Representen los resultados gráficamente:\n",
    "\n",
    "- Histograma de los rendimientos simulados, señalando las zonas correspondientes al VaR.\n",
    "\n",
    "- Una tabla con las métricas obtenidas.\n",
    "\n",
    "4. Interpreten los resultados:\n",
    "\n",
    "- ¿Qué tan probable es perder dinero?\n",
    "\n",
    "- ¿Qué tan graves pueden ser las pérdidas en los peores escenarios? "
   ]
  },
  {
   "cell_type": "code",
   "execution_count": 17,
   "id": "d0bc9785",
   "metadata": {},
   "outputs": [],
   "source": [
    "# Función para descargar datos de yfinance y calcular mu y sigma\n",
    "def get_data_portafolio(ticker, start, end):\n",
    "    prices = yf.download(ticker, start=start, end=end, progress=False)['Close']\n",
    "    returns = prices.pct_change().dropna()\n",
    "    mu = returns.mean()\n",
    "    cov = returns.cov()\n",
    "    return prices, mu, cov\n",
    "\n",
    "def simular_precios_portafolio(num_simulaciones, w, mu, cov, num_dias):\n",
    "\n",
    "    # Matriz para contener los rendimientos del portafolio\n",
    "    p_returns = np.full(shape = (num_simulaciones, num_dias), fill_value = 0.0)\n",
    "\n",
    "    for i in range(num_simulaciones):\n",
    "        L = np.linalg.cholesky(cov)\n",
    "        Z = np.random.normal(0, 1, (num_dias, len(w)))\n",
    "        daily_returns = np.array(mu) + Z @ L.T\n",
    "\n",
    "        daily_p_returns = daily_returns @ w\n",
    "        cumulative_returns = np.cumprod(1 + daily_p_returns)\n",
    "        p_returns[i, :] = cumulative_returns\n",
    "\n",
    "    return p_returns"
   ]
  },
  {
   "cell_type": "code",
   "execution_count": 18,
   "id": "bc23de7e",
   "metadata": {},
   "outputs": [],
   "source": [
    "num_simulaciones = 100000\n",
    "num_dias = 30\n",
    "\n",
    "tickers = ['NVDA', 'ORCL']\n",
    "w = [0.5, 0.5]\n",
    "\n",
    "prices, mu, cov = get_data_portafolio(tickers, dt.datetime.now() - dt.timedelta(days=365 * 4), dt.datetime.now())\n",
    "\n",
    "p_returns = simular_precios_portafolio(num_simulaciones, w, mu, cov, num_dias)"
   ]
  },
  {
   "cell_type": "code",
   "execution_count": 19,
   "id": "73c76b8f",
   "metadata": {},
   "outputs": [],
   "source": [
    "# Precio inicial del portafolio\n",
    "f_price = np.dot(np.array(prices.tail(1)), w)[0]\n",
    "\n",
    "# Precios finales simulados del portafolio\n",
    "sim_final_prices = p_returns[:, -1] * f_price"
   ]
  },
  {
   "cell_type": "code",
   "execution_count": 20,
   "id": "d8d814e4",
   "metadata": {},
   "outputs": [
    {
     "data": {
      "text/plain": [
       "np.float64(0.34659)"
      ]
     },
     "execution_count": 20,
     "metadata": {},
     "output_type": "execute_result"
    }
   ],
   "source": [
    "# Probabilidad de pérdida\n",
    "prob_perdidas = sum(sim_final_prices < f_price) / num_simulaciones\n",
    "prob_perdidas"
   ]
  },
  {
   "cell_type": "code",
   "execution_count": 21,
   "id": "5c897afd",
   "metadata": {},
   "outputs": [
    {
     "data": {
      "text/plain": [
       "(np.float64(-37.54973179176753), np.float64(-55.55948995421099))"
      ]
     },
     "execution_count": 21,
     "metadata": {},
     "output_type": "execute_result"
    }
   ],
   "source": [
    "# Cálculo de pérdida máxima esperada (VaR) al 95% y 99%\n",
    "Var_95 = np.percentile(sim_final_prices, 5)\n",
    "Var_99 = np.percentile(sim_final_prices, 1)\n",
    "\n",
    "Var_95 - f_price, Var_99 - f_price"
   ]
  },
  {
   "cell_type": "code",
   "execution_count": 22,
   "id": "42bc4353",
   "metadata": {},
   "outputs": [
    {
     "data": {
      "text/plain": [
       "np.float64(-48.52701623858499)"
      ]
     },
     "execution_count": 22,
     "metadata": {},
     "output_type": "execute_result"
    }
   ],
   "source": [
    "# Cálculo de CVaR al 95%\n",
    "CVar_95 = np.mean([i for i in sim_final_prices if i <= Var_95])\n",
    "\n",
    "CVar_95 - f_price"
   ]
  },
  {
   "cell_type": "code",
   "execution_count": 23,
   "id": "c9eaebbd",
   "metadata": {},
   "outputs": [
    {
     "data": {
      "image/png": "[encoded data removed]",
      "text/plain": [
       "<Figure size 640x480 with 1 Axes>"
      ]
     },
     "metadata": {},
     "output_type": "display_data"
    }
   ],
   "source": [
    "plt.hist(sim_final_prices, bins=100, alpha = 0.5)\n",
    "plt.axvline(Var_95, color='r', linestyle='dashed', linewidth=2, label='VaR 95%')\n",
    "plt.axvline(Var_99, color='g', linestyle='dashed', linewidth=2, label='VaR 99%')\n",
    "plt.title('Distribución de precios finales simulados del portafolio')\n",
    "plt.legend()\n",
    "plt.show()"
   ]
  },
  {
   "cell_type": "code",
   "execution_count": 24,
   "id": "5ce64a0a",
   "metadata": {},
   "outputs": [
    {
     "data": {
      "text/html": [
       "<div>\n",
       "<style scoped>\n",
       "    .dataframe tbody tr th:only-of-type {\n",
       "        vertical-align: middle;\n",
       "    }\n",
       "\n",
       "    .dataframe tbody tr th {\n",
       "        vertical-align: top;\n",
       "    }\n",
       "\n",
       "    .dataframe thead th {\n",
       "        text-align: right;\n",
       "    }\n",
       "</style>\n",
       "<table border=\"1\" class=\"dataframe\">\n",
       "  <thead>\n",
       "    <tr style=\"text-align: right;\">\n",
       "      <th></th>\n",
       "      <th>Métrica</th>\n",
       "      <th>Valor</th>\n",
       "    </tr>\n",
       "  </thead>\n",
       "  <tbody>\n",
       "    <tr>\n",
       "      <th>0</th>\n",
       "      <td>Valor inicial</td>\n",
       "      <td>233.909996</td>\n",
       "    </tr>\n",
       "    <tr>\n",
       "      <th>1</th>\n",
       "      <td>Valor Final Esperado</td>\n",
       "      <td>249.488659</td>\n",
       "    </tr>\n",
       "    <tr>\n",
       "      <th>2</th>\n",
       "      <td>Rendimiento Esperado %</td>\n",
       "      <td>6.660110</td>\n",
       "    </tr>\n",
       "    <tr>\n",
       "      <th>3</th>\n",
       "      <td>Prob de Pérdidas %</td>\n",
       "      <td>34.659000</td>\n",
       "    </tr>\n",
       "    <tr>\n",
       "      <th>4</th>\n",
       "      <td>VaR 95</td>\n",
       "      <td>196.360264</td>\n",
       "    </tr>\n",
       "    <tr>\n",
       "      <th>5</th>\n",
       "      <td>VaR 99</td>\n",
       "      <td>178.350506</td>\n",
       "    </tr>\n",
       "    <tr>\n",
       "      <th>6</th>\n",
       "      <td>CVaR 95</td>\n",
       "      <td>185.382980</td>\n",
       "    </tr>\n",
       "  </tbody>\n",
       "</table>\n",
       "</div>"
      ],
      "text/plain": [
       "                  Métrica       Valor\n",
       "0           Valor inicial  233.909996\n",
       "1    Valor Final Esperado  249.488659\n",
       "2  Rendimiento Esperado %    6.660110\n",
       "3      Prob de Pérdidas %   34.659000\n",
       "4                  VaR 95  196.360264\n",
       "5                  VaR 99  178.350506\n",
       "6                 CVaR 95  185.382980"
      ]
     },
     "execution_count": 24,
     "metadata": {},
     "output_type": "execute_result"
    }
   ],
   "source": [
    "Resultados = pd.DataFrame({\n",
    "    'Métrica': ['Valor inicial', 'Valor Final Esperado', 'Rendimiento Esperado %', 'Prob de Pérdidas %', 'VaR 95', 'VaR 99', 'CVaR 95'],\n",
    "    'Valor': [f_price, sim_final_prices.mean(), (sim_final_prices.mean() - f_price) * 100 / f_price, prob_perdidas *100, Var_95, Var_99, CVar_95]\n",
    "})\n",
    "\n",
    "Resultados"
   ]
  },
  {
   "cell_type": "markdown",
   "id": "5908557b",
   "metadata": {},
   "source": [
    "## Aplicación 3: Escenarios macroeconómicos\n",
    "\n",
    "Objetivo: Explorar cómo cambia el comportamiento del portafolio bajo distintos contextos económicos.\n",
    "\n",
    "Instrucciones:\n",
    "\n",
    "1. Definan tres escenarios:\n",
    "\n",
    "   - Alcista: aumentar la media de los rendimientos en +0.001.\n",
    "\n",
    "   - Bajista: disminuir la media en –0.001.\n",
    "\n",
    "   - Base: usar los rendimientos originales.\n",
    "\n",
    "2. Simulen al menos 10,000 trayectorias para cada escenario.\n",
    "\n",
    "3. Construyan comparaciones gráficas:\n",
    "\n",
    "   - Histogramas de las distribuciones en los tres escenarios.\n",
    "\n",
    "   - Gráfico comparativo de medias y desviaciones estándar entre escenarios.\n",
    "\n",
    "4. Analicen:\n",
    "\n",
    "   - ¿En qué escenario la probabilidad de pérdida es mayor?\n",
    "\n",
    "   - ¿Cuál presenta mayor dispersión de resultados?"
   ]
  },
  {
   "cell_type": "code",
   "execution_count": 25,
   "id": "f713906c",
   "metadata": {},
   "outputs": [],
   "source": [
    "def get_data(tickers, start, end):\n",
    "    prices = yf.download(tickers, start=start, end=end, progress=False)[\"Close\"]\n",
    "    returns = prices.pct_change().dropna()\n",
    "    mu = returns.mean()        \n",
    "    sigma = returns.std()      \n",
    "    matriz_cov = returns.cov() \n",
    "    return prices, mu, sigma, matriz_cov\n",
    "\n",
    "\n",
    "def simular_precios(num_simulaciones, weights, mu, matriz_cov, prices, num_dias):\n",
    "    weights = np.array(weights) / np.sum(weights)\n",
    "    mu_v = np.array(mu)\n",
    "    cov = np.array(matriz_cov)\n",
    "    n_assets = len(mu_v)\n",
    "\n",
    "    initial_prices = np.array(prices.iloc[-1])\n",
    "\n",
    "    # Cholesky\n",
    "    L = np.linalg.cholesky(cov + 1e-10 * np.eye(n_assets))\n",
    "\n",
    "    portfolio_final = np.zeros(num_simulaciones)\n",
    "\n",
    "    for i in range(num_simulaciones):\n",
    "        Z = np.random.normal(size=(n_assets, num_dias))\n",
    "        correlated_shocks = L @ Z\n",
    "        daily_returns = mu_v.reshape(-1,1) + correlated_shocks\n",
    "        price_paths = initial_prices.reshape(-1,1) * np.cumprod(1 + daily_returns, axis=1)\n",
    "        portfolio_prices = weights @ price_paths\n",
    "        portfolio_final[i] = portfolio_prices[-1]  # valor final\n",
    "\n",
    "    return portfolio_final"
   ]
  },
  {
   "cell_type": "code",
   "execution_count": 26,
   "id": "fe33fda7",
   "metadata": {},
   "outputs": [
    {
     "data": {
      "image/png": "[encoded data removed]",
      "text/plain": [
       "<Figure size 1200x600 with 1 Axes>"
      ]
     },
     "metadata": {},
     "output_type": "display_data"
    },
    {
     "data": {
      "image/png": "[encoded data removed]",
      "text/plain": [
       "<Figure size 800x600 with 1 Axes>"
      ]
     },
     "metadata": {},
     "output_type": "display_data"
    },
    {
     "name": "stdout",
     "output_type": "stream",
     "text": [
      " Estadísticas por escenario:\n",
      "              Media  Desviación estándar\n",
      "Base     249.097435            33.820331\n",
      "Alcista  256.276335            34.426934\n",
      "Bajista  241.489799            32.969939\n",
      "Escenario Base: Probabilidad de pérdida = 34.73%\n",
      "Escenario Alcista: Probabilidad de pérdida = 26.75%\n",
      "Escenario Bajista: Probabilidad de pérdida = 43.82%\n"
     ]
    }
   ],
   "source": [
    "stocks = [\"ORCL\", \"NVDA\"]\n",
    "weights = [0.5, 0.5]\n",
    "num_simulaciones = 10000\n",
    "num_dias = 30  \n",
    "\n",
    "start = dt.datetime.now() - dt.timedelta(days=365*4)\n",
    "end = dt.datetime.now()\n",
    "\n",
    "prices, mu, sigma, matriz_cov = get_data(stocks, start, end)\n",
    "\n",
    "escenarios = {\n",
    "    \"Base\": mu,\n",
    "    \"Alcista\": mu + 0.001,\n",
    "    \"Bajista\": mu - 0.001\n",
    "}\n",
    "\n",
    "resultados = {}\n",
    "for nombre, mu_esc in escenarios.items():\n",
    "    resultados[nombre] = simular_precios(num_simulaciones, weights, mu_esc, matriz_cov, prices, num_dias)\n",
    "\n",
    "\n",
    "# Histogramas\n",
    "plt.figure(figsize=(12,6))\n",
    "for nombre, data in resultados.items():\n",
    "    plt.hist(data, bins=50, alpha=0.5, density=True, label=nombre)\n",
    "plt.legend()\n",
    "plt.title(\"Distribución de valores finales del portafolio bajo distintos escenarios\")\n",
    "plt.xlabel(\"Valor final\")\n",
    "plt.ylabel(\"Densidad\")\n",
    "plt.show()\n",
    "\n",
    "# Medias y desviaciones\n",
    "estadisticas = pd.DataFrame({\n",
    "    \"Media\": {k: np.mean(v) for k,v in resultados.items()},\n",
    "    \"Desviación estándar\": {k: np.std(v) for k,v in resultados.items()}\n",
    "})\n",
    "\n",
    "estadisticas.plot(kind=\"bar\", figsize=(8,6))\n",
    "plt.title(\"Comparación de medias y desviaciones estándar\")\n",
    "plt.ylabel(\"Valor\")\n",
    "plt.xticks(rotation=0)\n",
    "plt.show()\n",
    "\n",
    "print(\" Estadísticas por escenario:\")\n",
    "print(estadisticas)\n",
    "\n",
    "for nombre, data in resultados.items():\n",
    "    prob_perdida = np.mean(data < prices.iloc[-1].dot(weights))\n",
    "    print(f\"Escenario {nombre}: Probabilidad de pérdida = {prob_perdida:.2%}\")"
   ]
  }
 ],
 "metadata": {
  "kernelspec": {
   "display_name": "Python 3",
   "language": "python",
   "name": "python3"
  },
  "language_info": {
   "codemirror_mode": {
    "name": "ipython",
    "version": 3
   },
   "file_extension": ".py",
   "mimetype": "text/x-python",
   "name": "python",
   "nbconvert_exporter": "python",
   "pygments_lexer": "ipython3",
   "version": "3.13.7"
  }
 },
 "nbformat": 4,
 "nbformat_minor": 5
}
