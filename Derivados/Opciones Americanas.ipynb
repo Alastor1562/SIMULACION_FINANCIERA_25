{
 "cells": [
  {
   "cell_type": "code",
   "execution_count": 14,
   "id": "9a07f50d",
   "metadata": {},
   "outputs": [],
   "source": [
    "import pandas as pd\n",
    "import numpy as np\n",
    "import yfinance as yf\n",
    "import matplotlib.pyplot as plt"
   ]
  },
  {
   "cell_type": "code",
   "execution_count": 15,
   "id": "dbe7b9e2",
   "metadata": {},
   "outputs": [],
   "source": [
    "def price_american_option_binomial(S, K, T, r, sigma, n, option_type):\n",
    "    dt = T / n\n",
    "\n",
    "    # factor de subida\n",
    "    u = np.exp(sigma * np.sqrt(dt))\n",
    "    # factor de bajada\n",
    "    d = 1 / u\n",
    "    # valor neutral al riesgo\n",
    "    q = (np.exp(r * dt) - d) / (u - d)\n",
    "\n",
    "    # dos matrices para los árboles\n",
    "    stock_tree = np.zeros((n + 1, n + 1))\n",
    "    option_tree = np.zeros((n + 1, n + 1))\n",
    "\n",
    "    # árbol de precios del subyacente\n",
    "    for i in range(n + 1):\n",
    "        for j in range(i + 1):\n",
    "            # ejemplo: S * u^2 * d^3\n",
    "            stock_tree[j, i] = S * (u ** (i - j)) * (d ** j)\n",
    "\n",
    "    # valores intrínsecos en el vencimiento (último día)\n",
    "    if option_type == 'call':\n",
    "        option_tree[:, n] = np.maximum(stock_tree[:, n] - K, 0)\n",
    "    elif option_type == 'put':\n",
    "        option_tree[:, n] = np.maximum(K - stock_tree[:, n], 0)\n",
    "\n",
    "    # recorrido hacia atrás\n",
    "    for i in range(n - 1, -1, -1):\n",
    "        for j in range(i + 1):\n",
    "            option_tree[j, i] = np.exp(-r * dt) * (\n",
    "                q * option_tree[j, i + 1] + (1 - q) * option_tree[j + 1, i + 1]\n",
    "            )\n",
    "\n",
    "            # verificación de ejercicio anticipado (opción americana)\n",
    "            if option_type == 'call':\n",
    "                option_tree[j, i] = np.maximum(stock_tree[j, i] - K, option_tree[j, i])\n",
    "            elif option_type == 'put':\n",
    "                option_tree[j, i] = np.maximum(K - stock_tree[j, i], option_tree[j, i])\n",
    "\n",
    "    return option_tree[0, 0]\n"
   ]
  },
  {
   "cell_type": "code",
   "execution_count": null,
   "id": "0d508014",
   "metadata": {},
   "outputs": [
    {
     "ename": "KeyboardInterrupt",
     "evalue": "",
     "output_type": "error",
     "traceback": [
      "\u001b[31m---------------------------------------------------------------------------\u001b[39m",
      "\u001b[31mKeyboardInterrupt\u001b[39m                         Traceback (most recent call last)",
      "\u001b[36mCell\u001b[39m\u001b[36m \u001b[39m\u001b[32mIn[18]\u001b[39m\u001b[32m, line 9\u001b[39m\n\u001b[32m      6\u001b[39m option_type = \u001b[33m'\u001b[39m\u001b[33mput\u001b[39m\u001b[33m'\u001b[39m\n\u001b[32m      7\u001b[39m K = \u001b[32m120\u001b[39m\n\u001b[32m----> \u001b[39m\u001b[32m9\u001b[39m \u001b[38;5;28mprint\u001b[39m(\u001b[43mprice_american_option_binomial\u001b[49m\u001b[43m(\u001b[49m\u001b[43mS\u001b[49m\u001b[43m,\u001b[49m\u001b[43m \u001b[49m\u001b[43mK\u001b[49m\u001b[43m,\u001b[49m\u001b[43m \u001b[49m\u001b[43mT\u001b[49m\u001b[43m,\u001b[49m\u001b[43m \u001b[49m\u001b[43mr\u001b[49m\u001b[43m,\u001b[49m\u001b[43m \u001b[49m\u001b[43msigma\u001b[49m\u001b[43m,\u001b[49m\u001b[43m \u001b[49m\u001b[43mn\u001b[49m\u001b[43m,\u001b[49m\u001b[43m \u001b[49m\u001b[43moption_type\u001b[49m\u001b[43m)\u001b[49m)\n",
      "\u001b[36mCell\u001b[39m\u001b[36m \u001b[39m\u001b[32mIn[15]\u001b[39m\u001b[32m, line 38\u001b[39m, in \u001b[36mprice_american_option_binomial\u001b[39m\u001b[34m(S, K, T, r, sigma, n, option_type)\u001b[39m\n\u001b[32m     36\u001b[39m             option_tree[j, i] = np.maximum(stock_tree[j, i] - K, option_tree[j, i])\n\u001b[32m     37\u001b[39m         \u001b[38;5;28;01melif\u001b[39;00m option_type == \u001b[33m'\u001b[39m\u001b[33mput\u001b[39m\u001b[33m'\u001b[39m:\n\u001b[32m---> \u001b[39m\u001b[32m38\u001b[39m             option_tree[j, i] = np.maximum(K - stock_tree[j, i], option_tree[j, i])\n\u001b[32m     40\u001b[39m \u001b[38;5;28;01mreturn\u001b[39;00m option_tree[\u001b[32m0\u001b[39m, \u001b[32m0\u001b[39m]\n",
      "\u001b[31mKeyboardInterrupt\u001b[39m: "
     ]
    }
   ],
   "source": [
    "T = 1\n",
    "n = 10\n",
    "sigma = 0.1\n",
    "r = 0.05\n",
    "S = 110\n",
    "option_type = 'put'\n",
    "K = 120\n",
    "\n",
    "print(price_american_option_binomial(S, K, T, r, sigma, n, option_type))"
   ]
  },
  {
   "cell_type": "code",
   "execution_count": null,
   "id": "f85eea43",
   "metadata": {},
   "outputs": [],
   "source": []
  }
 ],
 "metadata": {
  "kernelspec": {
   "display_name": "Python 3",
   "language": "python",
   "name": "python3"
  },
  "language_info": {
   "codemirror_mode": {
    "name": "ipython",
    "version": 3
   },
   "file_extension": ".py",
   "mimetype": "text/x-python",
   "name": "python",
   "nbconvert_exporter": "python",
   "pygments_lexer": "ipython3",
   "version": "3.13.7"
  }
 },
 "nbformat": 4,
 "nbformat_minor": 5
}
