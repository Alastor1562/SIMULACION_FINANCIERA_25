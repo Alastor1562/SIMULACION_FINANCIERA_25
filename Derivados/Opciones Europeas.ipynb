{
 "cells": [
  {
   "cell_type": "code",
   "execution_count": 10,
   "id": "b51a33e2",
   "metadata": {},
   "outputs": [],
   "source": [
    "import pandas as pd\n",
    "import numpy as np\n",
    "import matplotlib.pyplot as plt\n",
    "import yfinance as yf"
   ]
  },
  {
   "cell_type": "code",
   "execution_count": 11,
   "id": "66bdf3eb",
   "metadata": {},
   "outputs": [
    {
     "name": "stderr",
     "output_type": "stream",
     "text": [
      "C:\\Users\\samue\\AppData\\Local\\Temp\\ipykernel_12796\\1298148065.py:3: FutureWarning: YF.download() has changed argument auto_adjust default to True\n",
      "  prices = yf.download(tickers, start=\"2022-01-01\", end=\"2025-10-15\", progress=False)['Close']\n"
     ]
    }
   ],
   "source": [
    "tickers = sorted(['SPY'])\n",
    "\n",
    "prices = yf.download(tickers, start=\"2022-01-01\", end=\"2025-10-15\", progress=False)['Close']"
   ]
  },
  {
   "cell_type": "code",
   "execution_count": 12,
   "id": "cb0acbd7",
   "metadata": {},
   "outputs": [],
   "source": [
    "rets = prices.pct_change().dropna()\n",
    "\n",
    "sigma = rets.std() * np.sqrt(252)"
   ]
  },
  {
   "cell_type": "code",
   "execution_count": 13,
   "id": "4b732b63",
   "metadata": {},
   "outputs": [],
   "source": [
    "S0 = prices.iloc[-1]  # Precio spot\n",
    "r = 0.0411 # Tasa libre de riesgo anual\n",
    "T = 100 / 365  # Tiempo hasta el vencimiento en años\n",
    "\n",
    "sim = 100000  # Número de simulaciones"
   ]
  },
  {
   "cell_type": "code",
   "execution_count": 14,
   "id": "4cdb5b53",
   "metadata": {},
   "outputs": [],
   "source": [
    "Z = np.random.normal(0,1,sim)\n",
    "\n",
    "St = [S0 * np.exp((r - 0.5 * sigma**2) * T + sigma * np.sqrt(T) * Z) for Z in Z]"
   ]
  },
  {
   "cell_type": "code",
   "execution_count": 15,
   "id": "4b169497",
   "metadata": {},
   "outputs": [],
   "source": [
    "K = 680  # Precio de ejercicio"
   ]
  },
  {
   "cell_type": "code",
   "execution_count": 16,
   "id": "4ee02a04",
   "metadata": {},
   "outputs": [
    {
     "data": {
      "text/plain": [
       "(np.float64(26.084880842154995), np.float64(25.20491356413489))"
      ]
     },
     "execution_count": 16,
     "metadata": {},
     "output_type": "execute_result"
    }
   ],
   "source": [
    "v_call = np.exp(-r * T) * np.mean(np.maximum(np.array(St) - K, 0))\n",
    "\n",
    "v_put = np.exp(-r * T) * np.mean(np.maximum(K - np.array(St), 0))\n",
    "\n",
    "v_call, v_put"
   ]
  },
  {
   "cell_type": "code",
   "execution_count": null,
   "id": "b4e77329",
   "metadata": {},
   "outputs": [],
   "source": [
    "# Como función\n",
    "\n",
    "def valuacion_opciones_europeas(S0, K, r, T, sigma, sim):\n",
    "    Z = np.random.normal(0,1,sim)\n",
    "    St = [S0 * np.exp((r - 0.5 * sigma**2) * T + sigma * np.sqrt(T) * Z) for Z in Z]\n",
    "    v_call = np.exp(-r * T) * np.mean(np.maximum(np.array(St) - K, 0))\n",
    "    v_put = np.exp(-r * T) * np.mean(np.maximum(K - np.array(St), 0))\n",
    "    \n",
    "    return v_call, v_put"
   ]
  },
  {
   "cell_type": "code",
   "execution_count": null,
   "id": "8b98644d",
   "metadata": {},
   "outputs": [
    {
     "data": {
      "text/plain": [
       "(np.float64(0.0), np.float64(315.7897753856283))"
      ]
     },
     "execution_count": 19,
     "metadata": {},
     "output_type": "execute_result"
    }
   ],
   "source": [
    "valuacion_opciones_europeas(S0, K, r, T, sigma, sim)"
   ]
  },
  {
   "cell_type": "code",
   "execution_count": null,
   "id": "dfae86da",
   "metadata": {},
   "outputs": [],
   "source": []
  }
 ],
 "metadata": {
  "kernelspec": {
   "display_name": "Python 3",
   "language": "python",
   "name": "python3"
  },
  "language_info": {
   "codemirror_mode": {
    "name": "ipython",
    "version": 3
   },
   "file_extension": ".py",
   "mimetype": "text/x-python",
   "name": "python",
   "nbconvert_exporter": "python",
   "pygments_lexer": "ipython3",
   "version": "3.13.7"
  }
 },
 "nbformat": 4,
 "nbformat_minor": 5
}
